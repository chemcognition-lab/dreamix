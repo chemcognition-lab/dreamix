{
 "cells": [
  {
   "cell_type": "code",
   "execution_count": 1,
   "metadata": {},
   "outputs": [],
   "source": [
    "import pandas as pd\n",
    "import numpy as np"
   ]
  },
  {
   "cell_type": "code",
   "execution_count": 2,
   "metadata": {},
   "outputs": [],
   "source": [
    "df = pd.read_csv(\"keller_2016_unclean.csv\")\n",
    "\n",
    "# Step 1: Calculate average and standard deviation\n",
    "numeric_columns = df.columns[df.columns.astype(str).str.isnumeric()]\n",
    "df['Mean'] = df[numeric_columns].mean(axis=1)/100\n",
    "df['StDev'] = df[numeric_columns].std(axis=1)/100\n",
    "df['Median'] = df[numeric_columns].median(axis=1)/100\n",
    "df['NonZeroMean'] = (df[numeric_columns] != 0).mean(axis=1)/100\n",
    "df['NonZeroStDev'] = (df[numeric_columns] != 0).std(axis=1)/100\n",
    "df['NonZeroProportion'] = df[numeric_columns].replace(0, np.nan).mean(axis=1)/100\n",
    "\n",
    "# Step 2 and 3: Pivot and create statistics columns for each descriptor\n",
    "pivot_df = df.pivot_table(\n",
    "    values=['Mean', 'StDev', 'Median', 'NonZeroMean', 'NonZeroStDev', 'NonZeroProportion'],\n",
    "    index=['Stimulus', 'Dilution'],\n",
    "    columns='Descriptor',\n",
    "    aggfunc='first'\n",
    ")\n",
    "\n",
    "# Flatten the column multi-index\n",
    "pivot_df.columns = [f'{descriptor}_{stat.lower()}' for stat, descriptor in pivot_df.columns]\n",
    "\n",
    "# Reset the index\n",
    "pivot_df = pivot_df.reset_index()\n",
    "\n",
    "# Merge with original dataframe\n",
    "result_df = pd.merge(\n",
    "    pivot_df, \n",
    "    df[['CID', 'IsomericSMILES', 'IUPACName', 'name']].drop_duplicates(subset='CID'), \n",
    "    left_on=\"Stimulus\", \n",
    "    right_on=\"CID\", \n",
    "    how='left'\n",
    ")\n",
    "\n",
    "result_df = result_df.loc[result_df.groupby('CID')['Dilution'].idxmax()]\n",
    "\n",
    "# Reset the index if needed\n",
    "result_df = result_df.reset_index(drop=True)\n",
    "\n",
    "result_df.drop(columns=['Stimulus', 'Dilution'], inplace=True)\n",
    "result_df.to_csv(\"keller_2016_unclean_processed.csv\", index=False)"
   ]
  },
  {
   "cell_type": "code",
   "execution_count": 3,
   "metadata": {},
   "outputs": [],
   "source": [
    "label_columns = result_df.columns[:-4].to_list()\n",
    "file_df = pd.read_csv(\"../file_cleaning_features.csv\")\n",
    "file_df.loc[file_df['dataset'] == 'keller_2016', 'label_columns'] = str(label_columns)\n",
    "file_df.to_csv(\"../file_cleaning_features.csv\", index=False)"
   ]
  },
  {
   "cell_type": "code",
   "execution_count": null,
   "metadata": {},
   "outputs": [],
   "source": []
  },
  {
   "cell_type": "code",
   "execution_count": null,
   "metadata": {},
   "outputs": [],
   "source": []
  }
 ],
 "metadata": {
  "kernelspec": {
   "display_name": "dream",
   "language": "python",
   "name": "python3"
  },
  "language_info": {
   "codemirror_mode": {
    "name": "ipython",
    "version": 3
   },
   "file_extension": ".py",
   "mimetype": "text/x-python",
   "name": "python",
   "nbconvert_exporter": "python",
   "pygments_lexer": "ipython3",
   "version": "3.9.0"
  }
 },
 "nbformat": 4,
 "nbformat_minor": 2
}
