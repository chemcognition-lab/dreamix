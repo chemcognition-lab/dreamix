{
 "cells": [
  {
   "cell_type": "code",
   "execution_count": 1,
   "metadata": {},
   "outputs": [],
   "source": [
    "import pandas as pd\n",
    "from ast import literal_eval"
   ]
  },
  {
   "cell_type": "code",
   "execution_count": 2,
   "metadata": {},
   "outputs": [],
   "source": [
    "df = pd.read_csv(\"aromadb_combined.csv\")\n",
    "file_df = pd.read_csv(\"../file_cleaning_features.csv\")\n",
    "\n",
    "aroma_full_columns = literal_eval(file_df[file_df['dataset'] == 'aromadb']['new_label_columns'].to_list()[0])\n",
    "df['odor'] = df['no aroma'].apply(lambda row: 1 if row == 0 else 0)"
   ]
  },
  {
   "cell_type": "code",
   "execution_count": 3,
   "metadata": {},
   "outputs": [],
   "source": [
    "aroma_odor = df.copy()\n",
    "aroma_odor.drop(columns=aroma_full_columns, inplace=True)\n",
    "aroma_odor.to_csv(\"../aromadb_odor/aromadb_odor_combined.csv\", index=False)\n",
    "aroma_odor_dict = {\"dataset\": \"aromadb_odor\",\n",
    "                    \"unclean\": None,\n",
    "                    \"label_columns\": None,\n",
    "                    \"task\": \"binary\",\n",
    "                    \"new_label_columns\": str([\"odor\"]),\n",
    "                    \"task_dim\": 1,\n",
    "                    \"n_datapoints\": len(aroma_odor),\n",
    "                    \"features\": str(['IsomericSMILES']),\n",
    "                    \"validate\": True}\n"
   ]
  },
  {
   "cell_type": "code",
   "execution_count": 4,
   "metadata": {},
   "outputs": [],
   "source": [
    "aroma_descriptor = df.copy()\n",
    "aroma_descriptor = aroma_descriptor[aroma_descriptor['odor'] == 1]\n",
    "aroma_descriptor.drop(columns=['no aroma', 'odor'], inplace=True)\n",
    "aroma_descriptor.to_csv(\"../aromadb_descriptor/aromadb_descriptor_combined.csv\", index=False)\n",
    "\n",
    "aroma_descriptor_columns = aroma_full_columns\n",
    "aroma_descriptor_columns.remove(\"no aroma\")\n",
    "aroma_descriptor_dict = {\"dataset\": \"aromadb_descriptor\",\n",
    "                    \"unclean\": None,\n",
    "                    \"label_columns\": None,\n",
    "                    \"task\": \"binary\",\n",
    "                    \"new_label_columns\": str(aroma_descriptor_columns),\n",
    "                    \"task_dim\": 1,\n",
    "                    \"n_datapoints\": len(aroma_descriptor),\n",
    "                    \"features\": str(['IsomericSMILES']),\n",
    "                    \"validate\": True}"
   ]
  },
  {
   "cell_type": "code",
   "execution_count": 5,
   "metadata": {},
   "outputs": [],
   "source": [
    "file_df.drop(file_df[file_df['dataset'] == 'aromadb'].index, inplace=True)\n",
    "new_aroma_df = pd.DataFrame([aroma_odor_dict, aroma_descriptor_dict])\n",
    "file_df = pd.concat([file_df, new_aroma_df])"
   ]
  },
  {
   "cell_type": "code",
   "execution_count": 6,
   "metadata": {},
   "outputs": [],
   "source": [
    "file_df.to_csv(\"../file_cleaning_features.csv\",index=False)"
   ]
  },
  {
   "cell_type": "code",
   "execution_count": null,
   "metadata": {},
   "outputs": [],
   "source": []
  }
 ],
 "metadata": {
  "kernelspec": {
   "display_name": "ml",
   "language": "python",
   "name": "python3"
  },
  "language_info": {
   "codemirror_mode": {
    "name": "ipython",
    "version": 3
   },
   "file_extension": ".py",
   "mimetype": "text/x-python",
   "name": "python",
   "nbconvert_exporter": "python",
   "pygments_lexer": "ipython3",
   "version": "3.9.0"
  }
 },
 "nbformat": 4,
 "nbformat_minor": 2
}
