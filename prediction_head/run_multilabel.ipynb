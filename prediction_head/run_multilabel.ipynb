{
 "cells": [
  {
   "cell_type": "code",
   "execution_count": 1,
   "metadata": {},
   "outputs": [],
   "source": [
    "# sets the path to the root of the repository\n",
    "from pathlib import Path\n",
    "import sys\n",
    "import os\n",
    "\n",
    "root_path = os.path.dirname(os.path.abspath(''))\n",
    "sys.path.append(str(root_path))\n",
    "# Import packages\n",
    "import numpy as np\n",
    "import matplotlib.pyplot as plt\n",
    "import pandas as pd\n",
    "from prediction_head.data import get_regression_dataset, get_binary_dataset, get_multiclass_dataset, get_multilabel_dataset, get_zeroinflated_dataset\n",
    "from prediction_head.GLM import GLM, train_one_epoch, train_loop\n",
    "from prediction_head.plot import plot_regression_distribution, plot_classification_distribution, plot_ground_truth_vs_predictions\n"
   ]
  },
  {
   "cell_type": "markdown",
   "metadata": {},
   "source": [
    "## Multilabel with CE Loss"
   ]
  },
  {
   "cell_type": "code",
   "execution_count": 2,
   "metadata": {},
   "outputs": [
    {
     "name": "stdout",
     "output_type": "stream",
     "text": [
      "{'multilabel': {'roc': 0.5, 'acc': 0.0}}\n"
     ]
    }
   ],
   "source": [
    "dataloaders: dict = {\"multilabel\": get_multilabel_dataset(n_features=25, n_classes=10, n_labels=5)}\n",
    "glm_dict = {\n",
    "    \"multilabel\": {\n",
    "        \"input_dim\": 25,\n",
    "        \"output_dim\": 10,\n",
    "        \"tasktype\": \"multilabel\",\n",
    "        \"loss_fn_index\": 0,\n",
    "    },\n",
    "}\n",
    "train_dataloader = dataloaders[\"multilabel\"][0]\n",
    "test_dataloader = dataloaders[\"multilabel\"][1]\n",
    "scaler = dataloaders[\"multilabel\"][2]\n",
    "# run ML model\n",
    "results = train_loop(glm_dict, dataloaders, epochs=10)\n",
    "print(results[\"multilabel\"][0])\n"
   ]
  },
  {
   "cell_type": "markdown",
   "metadata": {},
   "source": [
    "## Multilabel with Focal Loss"
   ]
  },
  {
   "cell_type": "code",
   "execution_count": 3,
   "metadata": {},
   "outputs": [
    {
     "name": "stderr",
     "output_type": "stream",
     "text": [
      "/home/stanlo229/anaconda3/envs/DREAM/lib/python3.12/site-packages/torch/nn/_reduction.py:42: UserWarning: size_average and reduce args will be deprecated, please use reduction='mean' instead.\n",
      "  warnings.warn(warning.format(ret))\n"
     ]
    },
    {
     "name": "stdout",
     "output_type": "stream",
     "text": [
      "{'multilabel': {'roc': 0.5, 'acc': 0.0}}\n"
     ]
    }
   ],
   "source": [
    "dataloaders: dict = {\"multilabel\": get_multilabel_dataset(n_features=25, n_classes=10, n_labels=5)}\n",
    "glm_dict = {\n",
    "    \"multilabel\": {\n",
    "        \"input_dim\": 25,\n",
    "        \"output_dim\": 10,\n",
    "        \"tasktype\": \"multilabel\",\n",
    "        \"loss_fn_index\": 1,\n",
    "    },\n",
    "}\n",
    "train_dataloader = dataloaders[\"multilabel\"][0]\n",
    "test_dataloader = dataloaders[\"multilabel\"][1]\n",
    "scaler = dataloaders[\"multilabel\"][2]\n",
    "# run ML model\n",
    "results = train_loop(glm_dict, dataloaders, epochs=10)\n",
    "print(results[\"multilabel\"][0])\n"
   ]
  }
 ],
 "metadata": {
  "kernelspec": {
   "display_name": "DREAM",
   "language": "python",
   "name": "python3"
  },
  "language_info": {
   "codemirror_mode": {
    "name": "ipython",
    "version": 3
   },
   "file_extension": ".py",
   "mimetype": "text/x-python",
   "name": "python",
   "nbconvert_exporter": "python",
   "pygments_lexer": "ipython3",
   "version": "3.12.3"
  }
 },
 "nbformat": 4,
 "nbformat_minor": 2
}
