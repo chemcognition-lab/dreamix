{
 "cells": [
  {
   "cell_type": "code",
   "execution_count": 1,
   "metadata": {},
   "outputs": [],
   "source": [
    "# sets the path to the root of the repository\n",
    "from pathlib import Path\n",
    "import sys\n",
    "import os\n",
    "\n",
    "root_path = os.path.dirname(os.path.abspath(''))\n",
    "sys.path.append(str(root_path))\n",
    "# Import packages\n",
    "import numpy as np\n",
    "import matplotlib.pyplot as plt\n",
    "import pandas as pd\n",
    "from prediction_head.data import get_regression_dataset, get_binary_dataset, get_multiclass_dataset, get_multilabel_dataset, get_zeroinflated_dataset, get_zeroinflated_negativebinomial_dataset, get_zeroinflated_exponential_dataset, TaskType\n",
    "from prediction_head.GLM import GLM, train_one_epoch, train_loop, TaskSpec\n",
    "from prediction_head.plot import plot_regression_distribution, plot_classification_distribution, plot_ground_truth_vs_predictions\n"
   ]
  },
  {
   "cell_type": "markdown",
   "metadata": {},
   "source": [
    "## Multitask"
   ]
  },
  {
   "cell_type": "code",
   "execution_count": 2,
   "metadata": {},
   "outputs": [
    {
     "name": "stderr",
     "output_type": "stream",
     "text": [
      "/Users/stanl/Research/Repos/prediction_head/data.py:384: UserWarning: To copy construct from a tensor, it is recommended to use sourceTensor.clone().detach() or sourceTensor.clone().detach().requires_grad_(True), rather than torch.tensor(sourceTensor).\n",
      "  y_train_mask = torch.tensor(torch.tensor(np.where(y_train == 0, 0, 1)))\n",
      "/Users/stanl/Research/Repos/prediction_head/data.py:385: UserWarning: To copy construct from a tensor, it is recommended to use sourceTensor.clone().detach() or sourceTensor.clone().detach().requires_grad_(True), rather than torch.tensor(sourceTensor).\n",
      "  y_test_mask = torch.tensor(torch.tensor(np.where(y_test == 0, 0, 1)))\n"
     ]
    },
    {
     "name": "stdout",
     "output_type": "stream",
     "text": [
      "name='regression'\n",
      "name='binary'\n",
      "name='multiclass'\n",
      "name='multilabel'\n"
     ]
    }
   ],
   "source": [
    "dataloaders: dict = {\n",
    "    TaskType.regression: get_regression_dataset(),\n",
    "    TaskType.binary: get_binary_dataset(),\n",
    "    TaskType.multiclass: get_multiclass_dataset(),\n",
    "    TaskType.multilabel: get_multilabel_dataset(),\n",
    "    TaskType.zero_inflated_binary: get_zeroinflated_dataset(\n",
    "        tasktype=TaskType.zero_inflated_binary\n",
    "    ),\n",
    "    TaskType.zero_inflated_regression: get_zeroinflated_dataset(\n",
    "        tasktype=TaskType.zero_inflated_regression\n",
    "    ),\n",
    "}\n",
    "\n",
    "task_specs = [\n",
    "    TaskSpec(\"LeffingWell_regression\", 1, TaskType.regression),\n",
    "    TaskSpec(\"LeffingWell_binary\", 1, TaskType.binary),\n",
    "    TaskSpec(\"LeffingWell_multiclass\", 5, TaskType.multiclass),\n",
    "    TaskSpec(\"LeffingWell_multilabel\", 5, TaskType.multilabel),\n",
    "    # TaskSpec(\"zero_inflated_binary\", 1, TaskType.zero_inflated_binary),\n",
    "    # TaskSpec(\"zero_inflated_regression\", 1, TaskType.zero_inflated_regression),\n",
    "]\n",
    "# run ML model\n",
    "results = train_loop(25, task_specs, dataloaders=dataloaders, epochs=10)\n",
    "\n",
    "# print results but only the first item in the dictionary\n",
    "for key, value in results.items():\n",
    "    print(f\"{key=}, {value[0]=}\")"
   ]
  }
 ],
 "metadata": {
  "kernelspec": {
   "display_name": "DREAM",
   "language": "python",
   "name": "python3"
  },
  "language_info": {
   "codemirror_mode": {
    "name": "ipython",
    "version": 3
   },
   "file_extension": ".py",
   "mimetype": "text/x-python",
   "name": "python",
   "nbconvert_exporter": "python",
   "pygments_lexer": "ipython3",
   "version": "3.12.3"
  }
 },
 "nbformat": 4,
 "nbformat_minor": 2
}
